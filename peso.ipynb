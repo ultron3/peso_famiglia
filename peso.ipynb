{
 "cells": [
  {
   "cell_type": "code",
   "execution_count": null,
   "metadata": {},
   "outputs": [],
   "source": [
    "import numpy as np\n",
    "import matplotlib.pyplot as plt\n",
    "import seaborn as sns\n",
    "import sklearn as sk\n",
    "import pandas as pd\n",
    "from tensorflow import keras\n",
    "\n",
    "\n",
    "giorno1=input(\"inserisci il giorno:\")\n",
    "giorno2=input(\"inserisci il giorno: \")\n",
    "giorno3=input(\"inserisci il giorno: \")\n",
    "giorno4=input(\"inserisci il giorno: \")\n",
    "giorno5=input(\"inserisci il giorno: \")\n",
    "peso1=float(input(\"inserisci il peso: \"))\n",
    "peso2=float(input(\"inserisci il peso: \"))\n",
    "peso3=float(input(\"inserisci il peso: \"))\n",
    "peso4=float(input(\"inserisci il peso: \"))\n",
    "peso5=float(input(\"inserisci il peso: \"))\n",
    "z = np.array([giorno1,giorno2,giorno3,giorno4,giorno5])\n",
    "v= np.array([peso1,peso2,peso3,peso4,peso5])\n",
    "\n",
    "plt.plot(z,v)\n",
    "\n",
    "plt.xlabel(\"giorni\")\n",
    "plt.ylabel(\"peso\")\n",
    "plt.show()"
   ]
  }
 ],
 "metadata": {
  "kernelspec": {
   "display_name": "Python 3.10.4 64-bit",
   "language": "python",
   "name": "python3"
  },
  "language_info": {
   "name": "python",
   "version": "3.10.4"
  },
  "orig_nbformat": 4,
  "vscode": {
   "interpreter": {
    "hash": "8da454986fe53a0f142fb4eb0225c4585a12add1242067e723fabcf9683fe474"
   }
  }
 },
 "nbformat": 4,
 "nbformat_minor": 2
}
