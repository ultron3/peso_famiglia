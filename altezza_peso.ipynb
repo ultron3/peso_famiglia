{
 "cells": [
  {
   "cell_type": "code",
   "execution_count": null,
   "metadata": {},
   "outputs": [],
   "source": [
    "from sklearn.linear_model import LinearRegression        \n",
    "import numpy as np\n",
    "import matplotlib.pyplot as plt\n",
    "import seaborn as sns\n",
    "import sklearn as sk\n",
    "import pandas as pd\n",
    "from tensorflow import _keras_module\n",
    "\n",
    "x = np.array([1.57,1.69,1.70,1.76,1.78])#peso  #1.57 1.69 1.70 1.76 1.78\n",
    "print(\"altezza:\"+str(x))\n",
    "y = np.array([ 68.8,72,73,75,80])#altezza   #68.8 72 73 75 80\n",
    "print(\"peso:\"+str(y))\n",
    "n=float(input(\"inserisci il valore mediano dell'altezza:\"))\n",
    "lr = LinearRegression()\n",
    "lr.fit(x.reshape(-1, 1), y)\n",
    "\n",
    "#Predizione\n",
    "print(lr.predict([[n]]))\n",
    "\n",
    "coef = np.polyfit(x,y,1)\n",
    "poly1d_fn = np.poly1d(coef)\n",
    "\n",
    "plt.plot(x,y, 'yo', x, poly1d_fn(x), '-k')\n",
    "\n",
    "plt.xlim(0, 5)\n",
    "plt.ylim(0, 300)\n",
    "plt.show()"
   ]
  }
 ],
 "metadata": {
  "kernelspec": {
   "display_name": "Python 3.10.4 64-bit",
   "language": "python",
   "name": "python3"
  },
  "language_info": {
   "codemirror_mode": {
    "name": "ipython",
    "version": 3
   },
   "file_extension": ".py",
   "mimetype": "text/x-python",
   "name": "python",
   "nbconvert_exporter": "python",
   "pygments_lexer": "ipython3",
   "version": "3.10.4"
  },
  "orig_nbformat": 4,
  "vscode": {
   "interpreter": {
    "hash": "8da454986fe53a0f142fb4eb0225c4585a12add1242067e723fabcf9683fe474"
   }
  }
 },
 "nbformat": 4,
 "nbformat_minor": 2
}
