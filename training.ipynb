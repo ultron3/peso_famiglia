{
 "cells": [
  {
   "cell_type": "code",
   "execution_count": null,
   "metadata": {},
   "outputs": [],
   "source": [
    "import numpy as np\n",
    "import matplotlib.pyplot as plt\n",
    "import seaborn as sns\n",
    "import sklearn as sk\n",
    "import pandas as pd\n",
    "\n",
    "\n",
    "\n",
    "\n",
    "\n",
    "try:\n",
    "#inserisco i giorni\n",
    "    giorno1=input(\"inserisci il giorno:\")\n",
    "    giorno2=input(\"inserisci il giorno: \")\n",
    "    giorno3=input(\"inserisci il giorno: \")\n",
    "    giorno4=input(\"inserisci il giorno: \")\n",
    "    giorno5=input(\"inserisci il giorno: \")\n",
    "  #inserisco i km che faccio a piedi\n",
    "    km1=float(input(\"inserisci i passi fatti: \"))\n",
    "    km2=float(input(\"inserisci i passi fatti: \"))\n",
    "    km3=float(input(\"inserisci i passi fatti: \"))\n",
    "    km4=float(input(\"inserisci i passi7 fatti: \"))\n",
    "    km5=float(input(\"inserisci i passi fatti: \"))\n",
    "    \n",
    "    x = np.array([giorno1,giorno2,giorno3,giorno4,giorno5])\n",
    "    y = np.array([km1,km2,km3,km4,km5])\n",
    "\n",
    "    plt.plot(x, y)\n",
    "\n",
    "    plt.xlabel(\"giorni\")\n",
    "    plt.ylabel(\"km fatti\")\n",
    "\n",
    "\n",
    "    plt.show()\n",
    "except:\n",
    "    print(\"dati inseriti non corretti\")\n"
   ]
  },
  {
   "cell_type": "code",
   "execution_count": null,
   "metadata": {},
   "outputs": [],
   "source": [
    "import calendar \n",
    "anno=int(input(\"inserisci l'anno: \"))\n",
    "mese=int(input(\"inserisci il mese: \"))\n",
    "year=anno\n",
    "month=mese\n",
    "print(calendar.month(year,month))"
   ]
  }
 ],
 "metadata": {
  "kernelspec": {
   "display_name": "Python 3.10.4 64-bit",
   "language": "python",
   "name": "python3"
  },
  "language_info": {
   "codemirror_mode": {
    "name": "ipython",
    "version": 3
   },
   "file_extension": ".py",
   "mimetype": "text/x-python",
   "name": "python",
   "nbconvert_exporter": "python",
   "pygments_lexer": "ipython3",
   "version": "3.10.4 (tags/v3.10.4:9d38120, Mar 23 2022, 23:13:41) [MSC v.1929 64 bit (AMD64)]"
  },
  "orig_nbformat": 4,
  "vscode": {
   "interpreter": {
    "hash": "8da454986fe53a0f142fb4eb0225c4585a12add1242067e723fabcf9683fe474"
   }
  }
 },
 "nbformat": 4,
 "nbformat_minor": 2
}
