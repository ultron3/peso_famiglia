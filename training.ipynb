{
 "cells": [
  {
   "cell_type": "code",
   "execution_count": null,
   "metadata": {},
   "outputs": [],
   "source": [
    "import numpy as np\n",
    "import matplotlib.pyplot as plt\n",
    "import seaborn as sns\n",
    "import sklearn as sk\n",
    "import pandas as pd\n",
    "\n",
    "\n",
    "\n",
    "\n",
    "\n",
    "try:\n",
    "#inserisco i giorni\n",
    "    giorno1=input(\"inserisci il giorno:\")\n",
    "    giorno2=input(\"inserisci il giorno: \")\n",
    "    giorno3=input(\"inserisci il giorno: \")\n",
    "    giorno4=input(\"inserisci il giorno: \")\n",
    "    giorno5=input(\"inserisci il giorno: \")\n",
    "  #inserisco i km che faccio a piedi\n",
    "    km1=float(input(\"inserisci i passi fatti: \"))\n",
    "    km2=float(input(\"inserisci i passi fatti: \"))\n",
    "    km3=float(input(\"inserisci i passi fatti: \"))\n",
    "    km4=float(input(\"inserisci i passi fatti: \"))\n",
    "    km5=float(input(\"inserisci i passi fatti: \"))\n",
    "    \n",
    "    x = np.array([giorno1,giorno2,giorno3,giorno4,giorno5])\n",
    "    y = np.array([km1,km2,km3,km4,km5])\n",
    "\n",
    "    plt.plot(x, y)\n",
    "\n",
    "    plt.xlabel(\"giorni\")\n",
    "    plt.ylabel(\"km fatti\")\n",
    "\n",
    "\n",
    "    plt.show()\n",
    "except:\n",
    "    print(\"dati inseriti non corretti\")\n"
   ]
  },
  {
   "cell_type": "code",
   "execution_count": null,
   "metadata": {},
   "outputs": [],
   "source": [
    "from sklearn.linear_model import LinearRegression        \n",
    "import numpy as np\n",
    "import matplotlib.pyplot as plt\n",
    "import seaborn as sns\n",
    "import sklearn as sk\n",
    "import pandas as pd\n",
    "from tensorflow import _keras_module\n",
    "\n",
    "x = np.array([1.57,1.69,1.70,1.76,1.78])#peso  #1.57 1.69 1.70 1.76 1.78\n",
    "print(\"altezza:\"+str(x))\n",
    "y = np.array([ 68.8,72,73,75,80])#altezza   #68.8 72 73 75 80\n",
    "print(\"peso:\"+str(y))\n",
    "n=float(input(\"inserisci il valore mediano dell'altezza:\"))\n",
    "lr = LinearRegression()\n",
    "lr.fit(x.reshape(-1, 1), y)\n",
    "\n",
    "#Predizione\n",
    "print(lr.predict([[n]]))\n",
    "\n",
    "coef = np.polyfit(x,y,1)\n",
    "poly1d_fn = np.poly1d(coef)\n",
    "\n",
    "plt.plot(x,y, 'yo', x, poly1d_fn(x), '-k')\n",
    "\n",
    "plt.xlim(0, 5)\n",
    "plt.ylim(0, 300)\n",
    "plt.show()"
   ]
  },
  {
   "cell_type": "code",
   "execution_count": null,
   "metadata": {},
   "outputs": [],
   "source": [
    "import numpy as np\n",
    "import matplotlib.pyplot as plt\n",
    "import seaborn as sns\n",
    "import sklearn as sk\n",
    "import pandas as pd\n",
    "from tensorflow import keras\n",
    "\n",
    "\n",
    "giorno1=input(\"inserisci il giorno:\")\n",
    "giorno2=input(\"inserisci il giorno: \")\n",
    "giorno3=input(\"inserisci il giorno: \")\n",
    "giorno4=input(\"inserisci il giorno: \")\n",
    "giorno5=input(\"inserisci il giorno: \")\n",
    "peso1=float(input(\"inserisci il peso: \"))\n",
    "peso2=float(input(\"inserisci il peso: \"))\n",
    "peso3=float(input(\"inserisci il peso: \"))\n",
    "peso4=float(input(\"inserisci il peso: \"))\n",
    "peso5=float(input(\"inserisci il peso: \"))\n",
    "z = np.array([giorno1,giorno2,giorno3,giorno4,giorno5])\n",
    "v= np.array([peso1,peso2,peso3,peso4,peso5])\n",
    "\n",
    "plt.plot(z,v)\n",
    "\n",
    "plt.xlabel(\"giorni\")\n",
    "plt.ylabel(\"peso\")\n",
    "plt.show()"
   ]
  },
  {
   "cell_type": "code",
   "execution_count": null,
   "metadata": {},
   "outputs": [],
   "source": [
    "import calendar \n",
    "anno=int(input(\"inserisci l'anno: \"))\n",
    "mese=int(input(\"inserisci il mese: \"))\n",
    "year=anno\n",
    "month=mese\n",
    "print(calendar.month(year,month))"
   ]
  },
  {
   "cell_type": "code",
   "execution_count": null,
   "metadata": {},
   "outputs": [],
   "source": [
    "from langdetect import detect\n",
    "\n",
    "text= input(\"enter any text in any language: \")\n",
    "\n",
    "print( detect(text))"
   ]
  },
  {
   "cell_type": "code",
   "execution_count": 4,
   "metadata": {},
   "outputs": [
    {
     "name": "stdout",
     "output_type": "stream",
     "text": [
      "vpxh9ez7#l%w\n"
     ]
    }
   ],
   "source": [
    "import random\n",
    "passlen= int(input(\"enter the lenght of password:\"))\n",
    "s=\"abcdefghijklmnopqrstuvwxyz1234567890?#*&%$\"\n",
    "p=\"\".join(random.sample(s,passlen))\n",
    "print(p)\n"
   ]
  }
 ],
 "metadata": {
  "kernelspec": {
   "display_name": "Python 3.10.4 64-bit",
   "language": "python",
   "name": "python3"
  },
  "language_info": {
   "codemirror_mode": {
    "name": "ipython",
    "version": 3
   },
   "file_extension": ".py",
   "mimetype": "text/x-python",
   "name": "python",
   "nbconvert_exporter": "python",
   "pygments_lexer": "ipython3",
   "version": "3.10.4 (tags/v3.10.4:9d38120, Mar 23 2022, 23:13:41) [MSC v.1929 64 bit (AMD64)]"
  },
  "orig_nbformat": 4,
  "vscode": {
   "interpreter": {
    "hash": "8da454986fe53a0f142fb4eb0225c4585a12add1242067e723fabcf9683fe474"
   }
  }
 },
 "nbformat": 4,
 "nbformat_minor": 2
}
